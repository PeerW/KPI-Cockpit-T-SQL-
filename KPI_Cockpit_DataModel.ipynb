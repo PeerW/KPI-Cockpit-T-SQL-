{
    "metadata": {
        "kernelspec": {
            "name": "SQL",
            "display_name": "SQL",
            "language": "sql"
        },
        "language_info": {
            "name": "sql",
            "version": ""
        }
    },
    "nbformat_minor": 2,
    "nbformat": 4,
    "cells": [
        {
            "cell_type": "markdown",
            "source": [
                "# **Cockpit Data Model**"
            ],
            "metadata": {
                "azdata_cell_guid": "f4355d88-4333-4a06-a69e-578033d2d6c0"
            }
        },
        {
            "cell_type": "code",
            "source": [
                "/* ID sequence*/\n",
                "IF NOT EXISTS\n",
                "(\n",
                "SELECT [name]\n",
                "FROM sys.sequences\n",
                "WHERE [name] ='IDCode'\n",
                ")\n",
                "BEGIN\n",
                " \n",
                "CREATE SEQUENCE [ERM].IDCode  \n",
                "START WITH 1\n",
                "    INCREMENT BY 1 ; \n",
                "END ELSE BEGIN\n",
                "ALTER SEQUENCE  [ERM].IDCode RESTART WITH 1\n",
                "END"
            ],
            "metadata": {
                "azdata_cell_guid": "4dec4d86-7b2c-41bf-bb8e-70b35ff3227f",
                "tags": [
                    "hide_input"
                ]
            },
            "outputs": [],
            "execution_count": null
        },
        {
            "cell_type": "markdown",
            "source": [
                "# **Table Creation for the Data Model**"
            ],
            "metadata": {
                "azdata_cell_guid": "05373197-622d-4fa0-ae3c-422535298996"
            }
        },
        {
            "cell_type": "markdown",
            "source": [
                "## **KPI table (temporal table)**"
            ],
            "metadata": {
                "azdata_cell_guid": "74f848c8-c1e8-4e55-b21f-64f09c22860a"
            }
        },
        {
            "cell_type": "code",
            "source": [
                "/* Create KPI table*/\r\n",
                "CREATE TABLE [ERM].[KPIs]\r\n",
                "(      \r\n",
                "    [KPI_ID] [int] NOT NULL PRIMARY KEY,\r\n",
                "    [KPI Name] [varchar](200) NOT NULL,\r\n",
                "    [KPI Description] [varchar](150) NULL,\r\n",
                "    [KPI Group Level 1] [varchar](50) NULL,\r\n",
                "    [KPI Group Level 2] [varchar](50) NULL,\r\n",
                "    [KPI Group Level 3] [varchar](50) NULL,\r\n",
                "    [Date Created] [datetime] DEFAULT GETUTCDATE(),\r\n",
                "\r\n",
                "    /* Escalate missing data after X hours*/\r\n",
                "    [Escalate missing data after X Hours] INT NOT NULL DEFAULT (8),\r\n",
                "\r\n",
                "    /* How often is the data to be entered */\r\n",
                "    [IsYearly] [TINYINT] DEFAULT 0,\r\n",
                "    [IsQuarterly] [TINYINT] DEFAULT 0,\r\n",
                "    [IsMonthly] [TINYINT] DEFAULT 0, \r\n",
                "    [IsBiWeekly] [TINYINT] DEFAULT 0 , \r\n",
                "    [IsWeekly] [TINYINT] DEFAULT 0,\r\n",
                "\r\n",
                "    /* Format/Metric of KPI - in which format is the KPI presented*/\r\n",
                "    [Format] [varchar] (10) NOT NULL,\r\n",
                "        CONSTRAINT [CHECK_Format] CHECK ([Format]= 'Index' OR [Format]= '%' OR [Format]= 'mEUR' OR [Format]= 'EUR' OR [Format]= 'Count' OR [Format]= 'Yes/No'),\r\n",
                "    \r\n",
                "    /* Aggregation of the KPI - how the KPI should be aggregated across participant area hierachy*/\r\n",
                "    [Aggregation] [varchar] (10) NOT NULL,\r\n",
                "        CONSTRAINT [CHECK_Aggregation] CHECK ([Aggregation]= 'Sum' OR [Aggregation]= 'Average'),\r\n",
                "\r\n",
                "    /* Desired Direction of the KPI - important to get the logic for KPI traffic light correct*/\r\n",
                "    [Desired Direction] [varchar] (10) NOT NULL,\r\n",
                "        CONSTRAINT [CHECK_Desired Direction] CHECK ([Desired Direction]= 'Increase' OR [Desired Direction]= 'Decrease'),\r\n",
                "    \r\n",
                "\r\n",
                "    /*Temporal table*/\r\n",
                "    [ValidFrom] datetime2 GENERATED ALWAYS AS ROW START,\r\n",
                "    [ValidTo] datetime2 GENERATED ALWAYS AS ROW END,\r\n",
                "    PERIOD FOR SYSTEM_TIME (ValidFrom, ValidTo),\r\n",
                "\r\n",
                ")\r\n",
                "\r\n",
                "WITH (SYSTEM_VERSIONING = ON (HISTORY_TABLE = ERM.KPIsHis)); --temporal table\r\n",
                "\r\n",
                "\r\n",
                "ALTER TABLE  [ERM].[KPIs]\r\n",
                "ADD\r\n",
                "DEFAULT NEXT VALUE FOR [ERM].IDCode  \r\n",
                "        FOR KPI_ID;  \r\n",
                " \r\n",
                "CREATE UNIQUE INDEX UI_KPIName ON [ERM].[KPIs] ([KPI Name] ASC);"
            ],
            "metadata": {
                "azdata_cell_guid": "28e81300-f9a3-43bd-bc2c-44c96cf6e527"
            },
            "outputs": [
                {
                    "output_type": "display_data",
                    "data": {
                        "text/html": "Commands completed successfully."
                    },
                    "metadata": {}
                },
                {
                    "output_type": "display_data",
                    "data": {
                        "text/html": "Total execution time: 00:00:00.042"
                    },
                    "metadata": {}
                }
            ],
            "execution_count": 47
        },
        {
            "cell_type": "markdown",
            "source": [
                "## **Department/Participant Area Table**"
            ],
            "metadata": {
                "azdata_cell_guid": "d1c7f273-9fea-457f-8820-f80f505709b9"
            }
        },
        {
            "cell_type": "code",
            "source": [
                "-- Participant area table\r\n",
                "DROP TABLE IF EXISTS ERM.KPIParticipantArea;  \r\n",
                " \r\n",
                "CREATE TABLE ERM.KPIParticipantArea(\r\n",
                "    [KPIParticipantArea_ID] [INT]  NOT NULL PRIMARY KEY,\r\n",
                "    [VPS] [VARCHAR] (10) NOT NULL ,\r\n",
                "    [SVP Area] [VARCHAR] (50) NULL,\r\n",
                "    [Module] [VARCHAR] (50) NULL,\r\n",
                "    [VPS Responsible]  [VARCHAR] (10) NULL,\r\n",
                "    [SVP Area Responsible] [VARCHAR] (10) NULL,\r\n",
                "    [Module Responsible] [VARCHAR] (10) NULL,\r\n",
                "\r\n",
                "\r\n",
                ");\r\n",
                "\r\n",
                "CREATE UNIQUE INDEX UI_VPS_SVPArea_SVPAreaResp_Module_Submodule ON [ERM].[KPIParticipantArea] ([VPS],[SVP Area], [Module] /*,[SubModule]*/);\r\n",
                "\r\n",
                " \r\n",
                "ALTER TABLE  [ERM].[KPIParticipantArea]\r\n",
                "ADD\r\n",
                "DEFAULT NEXT VALUE FOR [ERM].IDCode  \r\n",
                "        FOR KPIParticipantArea_ID;  \r\n",
                " \r\n",
                ""
            ],
            "metadata": {
                "azdata_cell_guid": "bd8cd0d9-bdb9-4b9a-b310-caa456eec227",
                "tags": []
            },
            "outputs": [
                {
                    "output_type": "display_data",
                    "data": {
                        "text/html": "Commands completed successfully."
                    },
                    "metadata": {}
                },
                {
                    "output_type": "display_data",
                    "data": {
                        "text/html": "Total execution time: 00:00:00.097"
                    },
                    "metadata": {}
                }
            ],
            "execution_count": 45
        },
        {
            "cell_type": "markdown",
            "source": [
                "## **Actors Table**"
            ],
            "metadata": {
                "azdata_cell_guid": "d2148132-5dc9-4bb4-96bc-f12f17af0ba5"
            }
        },
        {
            "cell_type": "code",
            "source": [
                "--DROP TABLE ERM.Actors\r\n",
                "\r\n",
                "-- Actors table\r\n",
                "CREATE TABLE [ERM].[Actors]\r\n",
                "( \r\n",
                "    [Actors_ID] [int] NOT NULL PRIMARY KEY,\r\n",
                "\r\n",
                "    /* Primary Key */\r\n",
                "    [KPI_ID] [int] NOT  NULL, \r\n",
                "    [KPIParticipantArea_ID] [int] NOT NULL, \r\n",
                "    [Resource_ID] [int] NOT NULL,\r\n",
                "    [Role] VARCHAR(20) NOT NULL,\r\n",
                "\r\n",
                "    CONSTRAINT FK_Actors_KPIs FOREIGN KEY (KPI_ID) REFERENCES ERM.KPIs(KPI_ID),-- reference to KPIs table\r\n",
                "    CONSTRAINT FK_Actors_KPIParticipantArea FOREIGN KEY (KPIParticipantArea_ID) REFERENCES ERM.KPIParticipantArea(KPIParticipantArea_ID), --reference to ParticipantArea table\r\n",
                "    CONSTRAINT FK_Actors_Resource FOREIGN KEY (Resource_ID) REFERENCES ERM.Resource(Resource_ID), --reference to Resource table\r\n",
                "            CONSTRAINT [CHECK_Role] CHECK ([Role]= 'VPS Owner' OR [Role]= 'SVP Owner' OR [Role] = 'Module Owner' OR [Role] = 'Submodule Owner' OR [Role]='DataEntry')\r\n",
                ")\r\n",
                "\r\n",
                "CREATE UNIQUE INDEX UI_KPIID_KPIParticipantID_Resource_DataEntryUser_ID ON [ERM].[Actors] ([KPI_ID], [KPIParticipantArea_ID], [Resource_ID],[Role]);\r\n",
                "\r\n",
                "ALTER TABLE  [ERM].[Actors]\r\n",
                "ADD\r\n",
                "DEFAULT NEXT VALUE FOR [ERM].IDCode  \r\n",
                "        FOR Actors_ID;  \r\n",
                ""
            ],
            "metadata": {
                "azdata_cell_guid": "d2f5b7ae-429d-4819-a8a9-4e24b1dda538"
            },
            "outputs": [
                {
                    "output_type": "display_data",
                    "data": {
                        "text/html": "Commands completed successfully."
                    },
                    "metadata": {}
                },
                {
                    "output_type": "display_data",
                    "data": {
                        "text/html": "Total execution time: 00:00:00.035"
                    },
                    "metadata": {}
                }
            ],
            "execution_count": 48
        },
        {
            "cell_type": "markdown",
            "source": [
                "## **Target table**"
            ],
            "metadata": {
                "azdata_cell_guid": "5122e359-efcf-47b7-a44b-a2e8fbeb6403"
            }
        },
        {
            "cell_type": "code",
            "source": [
                "-- Actors table\r\n",
                "CREATE TABLE [ERM].[Target]\r\n",
                "( \r\n",
                "    [Target_ID] [int] NOT NULL PRIMARY KEY,\r\n",
                "\r\n",
                "    /*Primary key*/\r\n",
                "    [KPI_ID] [int] NOT NULL,\r\n",
                "    [KPIParticipantArea_ID] [int] NOT NULL, \r\n",
                "\r\n",
                "    [Green Target] [decimal](18, 2) NOT NULL,\r\n",
                "    [Yellow Target] [decimal](18, 2) NOT NULL,\r\n",
                "\r\n",
                "    CONSTRAINT FK_Target_KPIs FOREIGN KEY (KPI_ID) REFERENCES ERM.KPIs(KPI_ID),-- reference to KPIs table\r\n",
                "    CONSTRAINT FK_Target_KPIParticipantArea FOREIGN KEY (KPIParticipantArea_ID) REFERENCES ERM.KPIParticipantArea(KPIParticipantArea_ID) --reference to ParticipantArea table\r\n",
                ")\r\n",
                "\r\n",
                "CREATE UNIQUE INDEX UI_KPIID_KPIParticipantID_GreenTarget_YellowTarget ON [ERM].[Target] ([KPI_ID], [KPIParticipantArea_ID],[Green Target],[Yellow Target]);\r\n",
                "\r\n",
                "ALTER TABLE  [ERM].[Target]\r\n",
                "ADD\r\n",
                "DEFAULT NEXT VALUE FOR [ERM].IDCode  \r\n",
                "        FOR Target_ID;  "
            ],
            "metadata": {
                "azdata_cell_guid": "23f7a4f4-5a6a-43a0-9ab9-2542df3d53bf"
            },
            "outputs": [
                {
                    "output_type": "display_data",
                    "data": {
                        "text/html": "Commands completed successfully."
                    },
                    "metadata": {}
                },
                {
                    "output_type": "display_data",
                    "data": {
                        "text/html": "Total execution time: 00:00:00.035"
                    },
                    "metadata": {}
                }
            ],
            "execution_count": 49
        },
        {
            "cell_type": "markdown",
            "source": [
                "## **KPI Values table**"
            ],
            "metadata": {
                "azdata_cell_guid": "8aaefca9-fe6f-4cd8-b8f1-04b483501146"
            }
        },
        {
            "cell_type": "code",
            "source": [
                "\n",
                "/* Create KPI Values Table*/\n",
                "CREATE TABLE ERM.KPI_Value\n",
                "(\n",
                "    [KPIValue_ID] [int]  NOT NULL PRIMARY KEY,\n",
                "\t[KPI_ID] [int] NOT NULL,\n",
                "    [KPIParticipantArea_ID] [int] NOT NULL ,\n",
                "\t[EnteredbyUser_ID] [int] NOT  NULL, \n",
                "\t[KPIValueEntryDate_ID]  [int] NOT NULL, --YYYYMMDD\n",
                "\t[KPI Value] [decimal](18, 2) NOT NULL,\n",
                "    [Comment] [varchar] (200) NULL,\n",
                "\t[Status] [VARCHAR] (30) NOT NULL,\n",
                "\n",
                "\tCONSTRAINT FK_KPIValue_KPIs FOREIGN KEY (KPI_ID) REFERENCES ERM.KPIs(KPI_ID),-- reference to KPIs table\n",
                "    CONSTRAINT FK_KPIValue_KPIParticipantArea FOREIGN KEY (KPIParticipantArea_ID) REFERENCES ERM.KPIParticipantArea(KPIParticipantArea_ID), --reference to ParticipantArea table\n",
                "    CONSTRAINT FK_KPIValue_Resource FOREIGN KEY (EnteredbyUser_ID) REFERENCES ERM.Resource(Resource_ID), --reference to Resource table\n",
                "\t\tCONSTRAINT [CHECK_Status] CHECK ([Status] = 'Missing' OR [Status]='Manual' OR [Status]='Automatic')\n",
                ")\n",
                "\n",
                "-- unique index to ensure only one entry per date per participant area per KPI\n",
                "CREATE UNIQUE INDEX UI_KPIID_KPIParticipantID_KPIValueEntryDate ON [ERM].[KPI_Value] ([KPI_ID], [KPIParticipantArea_ID],[KPIValueEntryDate_ID]);\n",
                "\n",
                "ALTER TABLE  [ERM].[KPI_Value]\n",
                "ADD\n",
                "DEFAULT NEXT VALUE FOR [ERM].IDCode  \n",
                "        FOR KPIValue_ID;  "
            ],
            "metadata": {
                "azdata_cell_guid": "81ed1c87-9783-4b22-8ca2-aec3743b3306",
                "tags": []
            },
            "outputs": [
                {
                    "output_type": "display_data",
                    "data": {
                        "text/html": "Commands completed successfully."
                    },
                    "metadata": {}
                },
                {
                    "output_type": "display_data",
                    "data": {
                        "text/html": "Total execution time: 00:00:00.036"
                    },
                    "metadata": {}
                }
            ],
            "execution_count": 50
        },
        {
            "cell_type": "markdown",
            "source": [
                "### **KPI Values table: IsCurrent Computed Column**\n",
                "\n",
                "This column will flag the most recent value for a given KPI.  \n",
                "The column is created by utilizing a \"user defined function\"."
            ],
            "metadata": {
                "azdata_cell_guid": "3ac6cb55-ba10-4031-9a9e-4a56bac49a9e"
            }
        },
        {
            "cell_type": "code",
            "source": [
                "-- udf for IsCurrent column \r\n",
                "CREATE FUNCTION ERM.udfKPIValueIsCurrent\r\n",
                "(\r\n",
                "@KPI_ID AS INT,\r\n",
                "@KPIParticipantAreaID AS INT,\r\n",
                "@KPIValueEntryDate AS INT\r\n",
                ")\r\n",
                "RETURNS INT\r\n",
                "AS\r\n",
                "BEGIN\r\n",
                "  DECLARE @res AS INT;\r\n",
                "\r\n",
                "  SELECT\r\n",
                "    @res = CASE WHEN MAX([KPIValueEntryDate_ID]) OVER(PARTITION BY KPI_ID, KPIParticipantArea_ID)  = @KPIValueEntryDate\r\n",
                "        THEN 1 \r\n",
                "        ELSE 0\r\n",
                "        END\r\n",
                "  FROM ERM.KPI_Value\r\n",
                "  WHERE\r\n",
                "    KPI_ID = @KPI_ID  \r\n",
                "    AND KPIParticipantArea_ID = @KPIParticipantAreaID\r\n",
                "\r\n",
                "\r\n",
                "RETURN @res;\r\n",
                "END\r\n",
                "GO"
            ],
            "metadata": {
                "azdata_cell_guid": "8c31ddcd-6b81-43bd-8032-1f7b847f94d8"
            },
            "outputs": [
                {
                    "output_type": "display_data",
                    "data": {
                        "text/html": "Commands completed successfully."
                    },
                    "metadata": {}
                },
                {
                    "output_type": "display_data",
                    "data": {
                        "text/html": "Total execution time: 00:00:00.173"
                    },
                    "metadata": {}
                }
            ],
            "execution_count": 62
        },
        {
            "cell_type": "code",
            "source": [
                "-- add computed column based on udf \r\n",
                "ALTER TABLE ERM.KPI_Value ADD IsCurrent AS ERM.udfKPIValueIsCurrent (KPI_ID,KPIParticipantArea_ID,KPIValueEntryDate_ID)\r\n",
                "GO"
            ],
            "metadata": {
                "azdata_cell_guid": "e09d7c8b-91fe-4a63-9326-e420960a9b67"
            },
            "outputs": [
                {
                    "output_type": "display_data",
                    "data": {
                        "text/html": "Commands completed successfully."
                    },
                    "metadata": {}
                },
                {
                    "output_type": "display_data",
                    "data": {
                        "text/html": "Total execution time: 00:00:00.026"
                    },
                    "metadata": {}
                }
            ],
            "execution_count": 52
        },
        {
            "cell_type": "markdown",
            "source": [
                "# **Stored Procedures**"
            ],
            "metadata": {
                "azdata_cell_guid": "863c2249-15e0-4b10-a105-99fc15cb264e"
            }
        },
        {
            "cell_type": "markdown",
            "source": [
                "## **Stored Procedure: New KPI Entry**\n",
                "\n",
                "This SP will add new KPIs to the datamodel by utilizing multiple merge statements."
            ],
            "metadata": {
                "azdata_cell_guid": "1137bc4c-4a1b-4d84-b599-486612d0e676"
            }
        },
        {
            "cell_type": "code",
            "source": [
                "    /* Procedure to create new KPIs*/\r\n",
                "ALTER PROCEDURE ERM.AddNewKPI\r\n",
                "(\r\n",
                "    /*KPIs table*/\r\n",
                "\t @KPIName [varchar](100),\r\n",
                "\t @KPIDescription [varchar](500), --OPTIONAL N/A can be entered\r\n",
                "\t @KPIGroupLevel1 [varchar](50),\r\n",
                "\t @KPIGroupLevel2 [varchar](50), --OPTIONAL N/A can be entered\r\n",
                "    @KPIGroupLevel3 [varchar](50), --OPTIONAL N/A can be entered\r\n",
                "    @IsYearly [TINYINT],\r\n",
                "    @IsQuarterly [TINYINT],\r\n",
                "    @IsMonthly [TINYINT],\r\n",
                "    @IsBiWeekly [TINYINT], \r\n",
                "    @IsWeekly [TINYINT],  \r\n",
                "    @Format [varchar] (10) ,\r\n",
                "    @Aggregation [varchar] (10),\r\n",
                "    @DesiredDirection [varchar] (10),\r\n",
                "\r\n",
                "    /*KPIParticipantArea table*/\r\n",
                "    @VPS [VARCHAR](50),\r\n",
                "    @SVPArea [VARCHAR](50),   --OPTIONAL N/A can be entered\r\n",
                "    @Module  [VARCHAR](50),   --OPTIONAL N/A can be entered\r\n",
                "    --@SubModule [VARCHAR](50), --OPTIONAL N/A can be entered\r\n",
                "\r\n",
                "    /*Actors table*/\r\n",
                "    @DataEntryuserInitials [VARCHAR](10) = 'N/A',     --OPTIONAL only if data entry is not performed by Module or SubModule Owner\r\n",
                "    @ProxyDataEntryuserInitials [VARCHAR](10) = 'N/A', --OPTIONAL only if data entry is not performed by Module or SubModule Owner and replacement needed for holidays etc. \r\n",
                "\r\n",
                "   /*Target table*/\r\n",
                "    @GreenTarget [decimal](18, 2),\r\n",
                "    @YellowTarget [decimal](18, 2)\r\n",
                ")\r\n",
                "AS \r\n",
                "BEGIN\r\n",
                "     SET NOCOUNT ON;\r\n",
                "    /**** Merge w. KPIs table upon new KPI entry ****/\r\n",
                "    MERGE ERM.KPIs AS TGT  \r\n",
                "        USING (SELECT \r\n",
                "        @KPIName ,\r\n",
                "        @KPIDescription,\r\n",
                "        @KPIGroupLevel1,\r\n",
                "        @KPIGroupLevel2 ,\r\n",
                "        @KPIGroupLevel3 ,\r\n",
                "        @IsYearly ,\r\n",
                "        @IsQuarterly ,\r\n",
                "        @IsMonthly ,\r\n",
                "        @IsBiWeekly, \r\n",
                "        @IsWeekly,\r\n",
                "        @Format,\r\n",
                "        @Aggregation,\r\n",
                "        @DesiredDirection) \r\n",
                "        AS SRC (KPIName , KPIDescription, KPIGroupLevel1,KPIGroupLevel2 ,KPIGroupLevel3 ,IsYearly ,IsQuarterly ,IsMonthly ,IsBiWeekly, IsWeekly, [Format], Aggregation, DesiredDirection )  \r\n",
                "        ON TGT.[KPI Name] = SRC.KPIName\r\n",
                "        WHEN MATCHED\r\n",
                "            THEN UPDATE SET \r\n",
                "                        TGT.[KPI Description] = SRC.KPIDescription,\r\n",
                "                        TGT.[KPI Group Level 1] = SRC.KPIGroupLevel1,\r\n",
                "                        TGT.[KPI Group Level 2] = SRC.KPIGroupLevel2,\r\n",
                "                        TGT.[KPI Group Level 3] = SRC.KPIGroupLevel3,\r\n",
                "                        TGT.IsYearly = SRC.IsYearly,\r\n",
                "                        TGT.IsQuarterly = SRC.IsQuarterly,\r\n",
                "                        TGT.IsMonthly = SRC.IsMonthly,\r\n",
                "                        TGT.IsBiWeekly = SRC.IsBiWeekly,\r\n",
                "                        TGT.IsWeekly = SRC.IsWeekly,\r\n",
                "                        TGT.[Format] = SRC.Format,\r\n",
                "                        TGT.[Aggregation] = SRC.Aggregation,\r\n",
                "                        TGT.[Desired Direction] = SRC.DesiredDirection\r\n",
                "        WHEN NOT MATCHED \r\n",
                "            THEN INSERT ([KPI Name], [KPI Description],[KPI Group Level 1],[KPI Group Level 2],[KPI Group Level 3],[IsYearly],[IsQuarterly], [IsMonthly], [IsBiWeekly], [IsWeekly], [Format], [Aggregation], [Desired Direction])\r\n",
                "            VALUES      (SRC.KPIName,SRC.KPIDescription,SRC.KPIGroupLevel1,SRC.KPIGroupLevel2 ,SRC.KPIGroupLevel3 ,SRC.IsYearly ,SRC.IsQuarterly ,SRC.IsMonthly ,SRC.IsBiWeekly, SRC.IsWeekly, SRC.Format,SRC.Aggregation,SRC.DesiredDirection );\r\n",
                "\r\n",
                "\r\n",
                "\r\n",
                "    /**** Merge w. Participant Area table upon new KPI entry ****/\r\n",
                "    MERGE ERM.KPIParticipantArea AS TGT  \r\n",
                "        USING (SELECT \r\n",
                "        @VPS\r\n",
                "        ,@SVPArea\r\n",
                "        ,@Module\r\n",
                "        )\r\n",
                "        AS SRC (VPS,SVPArea, Module)  \r\n",
                "        ON TGT.[VPS] = SRC.VPS\r\n",
                "        AND TGT.[SVP Area] = SRC.SVPArea\r\n",
                "        AND TGT.[Module] = SRC.Module\r\n",
                "        WHEN NOT MATCHED \r\n",
                "            THEN INSERT ([VPS], [SVP Area] , [Module] )\r\n",
                "            VALUES      (SRC.VPS, SRC.SVPArea, SRC.Module);\r\n",
                "\r\n",
                "\r\n",
                "    /**** Merge w. Actor table upon new KPI entry for SVP Owner ****/\r\n",
                "        -- to get KPI_ID \r\n",
                "     DECLARE @KPIID INT = NULL\r\n",
                "     SET @KPIID = \r\n",
                "     (SELECT KPI_ID\r\n",
                "     FROM ERM.KPIs AS KPI\r\n",
                "     WHERE KPI.[KPI Name]=@KPIName)\r\n",
                "\r\n",
                "        -- to get ParticipantAreaID\r\n",
                "     DECLARE @KPIParticipantAreaID INT = NULL\r\n",
                "     SET @KPIParticipantAreaID = \r\n",
                "     (SELECT [KPIParticipantArea_ID]\r\n",
                "     FROM ERM.KPIParticipantArea AS PA\r\n",
                "     WHERE PA.[VPS] = @VPS\r\n",
                "     AND PA.[SVP Area]=@SVPArea\r\n",
                "     AND PA.[Module] = @Module) \r\n",
                "\r\n",
                "     -- to get ResourceID SVPOwner\r\n",
                "    IF @SVPArea <> 'N/A' \r\n",
                "      BEGIN\r\n",
                "               -- Initials of SVP Owner are stored alongside Module in KPIParticipantArea\r\n",
                "            DECLARE @SVPOwnerInitials [VARCHAR](10) = NULL\r\n",
                "            SET @SVPOwnerInitials = \r\n",
                "            (SELECT [SVP Area Responsible]\r\n",
                "            FROM ERM.KPIParticipantArea AS PA\r\n",
                "            WHERE PA.KPIParticipantArea_ID = @KPIParticipantAreaID)\r\n",
                "            \r\n",
                "               -- Now, get the resource ID associated with Initials\r\n",
                "            DECLARE @SVPOwnerID INT = NULL\r\n",
                "            SET  @SVPOwnerID = \r\n",
                "            (SELECT Resource_ID\r\n",
                "            FROM ERM.Resource AS RE\r\n",
                "            WHERE RE.[Initials]=@SVPOwnerInitials)\r\n",
                "            \r\n",
                "            -- Role as SVPOwner\r\n",
                "            DECLARE @RoleSVPOwner VARCHAR(20) = NULL\r\n",
                "            SET  @RoleSVPOwner = 'SVP Owner'\r\n",
                "            \r\n",
                "            --Merge\r\n",
                "            MERGE ERM.Actors AS TGT  \r\n",
                "            USING (SELECT @KPIID, @KPIParticipantAreaID, @SVPOwnerID, @RoleSVPOwner) AS SRC (KPI_ID, KPIParticipantArea_ID, Resource_ID, Role)  \r\n",
                "               ON  TGT.[KPI_ID] = SRC.KPI_ID\r\n",
                "               AND TGT.[KPIParticipantArea_ID] = SRC.KPIParticipantArea_ID\r\n",
                "               AND TGT.[Resource_ID] = SRC.Resource_ID\r\n",
                "               AND TGT.[Role] = SRC.Role\r\n",
                "            WHEN NOT MATCHED \r\n",
                "               THEN INSERT (KPI_ID     , KPIParticipantArea_ID     , Resource_ID       , Role    )\r\n",
                "               VALUES      (SRC.KPI_ID , SRC.KPIParticipantArea_ID , SRC.Resource_ID   , SRC.Role);\r\n",
                "      END\r\n",
                "\r\n",
                "\r\n",
                "     /**** Merge w. Actor table upon new KPI entry for Module Owner ****/\r\n",
                "    IF @Module <> 'N/A' \r\n",
                "      BEGIN\r\n",
                "            -- to get ResourceID ModuleOwner\r\n",
                "               -- Initlas of Responsibles are stored alongside Module in KPIParticipantArea\r\n",
                "            DECLARE @ModuleOwnerInitials [VARCHAR](10) = NULL\r\n",
                "            SET @ModuleOwnerInitials = \r\n",
                "            (SELECT [Module Responsible]\r\n",
                "            FROM ERM.KPIParticipantArea AS PA\r\n",
                "            WHERE PA.KPIParticipantArea_ID = @KPIParticipantAreaID)\r\n",
                "\r\n",
                "            -- to get ResourceID ModuleOwner\r\n",
                "            DECLARE @ModuleOwnerID INT = NULL\r\n",
                "            SET  @ModuleOwnerID = \r\n",
                "            (SELECT Resource_ID\r\n",
                "            FROM ERM.Resource AS RE\r\n",
                "            WHERE RE.[Initials]= @ModuleOwnerInitials)\r\n",
                "\r\n",
                "            -- Role as SVPOwner\r\n",
                "            DECLARE @RoleModuleOwner VARCHAR(20) = NULL\r\n",
                "            SET  @RoleModuleOwner = 'Module Owner'\r\n",
                "\r\n",
                "            --Merge\r\n",
                "            MERGE ERM.Actors AS TGT  \r\n",
                "            USING (SELECT @KPIID, @KPIParticipantAreaID, @ModuleOwnerID, @RoleModuleOwner) AS SRC (KPI_ID, KPIParticipantArea_ID, Resource_ID, Role)  \r\n",
                "               ON  TGT.[KPI_ID] = SRC.KPI_ID\r\n",
                "               AND TGT.[KPIParticipantArea_ID] = SRC.KPIParticipantArea_ID\r\n",
                "               AND TGT.[Resource_ID] = SRC.Resource_ID\r\n",
                "               AND TGT.[Role] = SRC.Role\r\n",
                "            WHEN NOT MATCHED \r\n",
                "               THEN INSERT (KPI_ID     , KPIParticipantArea_ID     , Resource_ID       , Role    )\r\n",
                "               VALUES      (SRC.KPI_ID , SRC.KPIParticipantArea_ID , SRC.Resource_ID   , SRC.Role);\r\n",
                "      END\r\n",
                "\r\n",
                "\r\n",
                "    /**** Merge w. Actor table upon new KPI entry for DataEntry ****/\r\n",
                "      -- Role as DataEntry\r\n",
                "      DECLARE @RoleDataEntryUser VARCHAR(20) = NULL\r\n",
                "      SET  @RoleDataEntryUser = 'DataEntry'\r\n",
                "   \r\n",
                "   \r\n",
                "    IF @DataEntryuserInitials  <> 'N/A'\r\n",
                "      BEGIN\r\n",
                "            -- to get ResourceID Data Enrty user\r\n",
                "            DECLARE @DataEntryUserID INT = NULL\r\n",
                "            SET  @DataEntryUserID = \r\n",
                "            (SELECT Resource_ID\r\n",
                "            FROM ERM.Resource AS RE\r\n",
                "            WHERE RE.[Initials]=@DataEntryuserInitials)\r\n",
                "\r\n",
                "               --Merge\r\n",
                "            MERGE ERM.Actors AS TGT  \r\n",
                "            USING (SELECT @KPIID, @KPIParticipantAreaID, @DataEntryUserID, @RoleDataEntryUser) AS SRC (KPI_ID, KPIParticipantArea_ID, Resource_ID, Role)  \r\n",
                "            ON  TGT.[KPI_ID] = SRC.KPI_ID\r\n",
                "            AND TGT.[KPIParticipantArea_ID] = SRC.KPIParticipantArea_ID\r\n",
                "            AND TGT.[Resource_ID] = SRC.Resource_ID\r\n",
                "            AND TGT.[Role] = SRC.Role\r\n",
                "            WHEN NOT MATCHED \r\n",
                "               THEN INSERT (KPI_ID     , KPIParticipantArea_ID     , Resource_ID       , Role)\r\n",
                "               VALUES      (SRC.KPI_ID , SRC.KPIParticipantArea_ID , SRC.Resource_ID   , SRC.Role);\r\n",
                "      END\r\n",
                "\r\n",
                "\r\n",
                "  /**** Merge w. Actor table upon new KPI entry for ProxyDataEntry -- for a possible second user that fills in during holiday season sickness etc ****/\r\n",
                "   IF @ProxyDataEntryuserInitials <> 'N/A'\r\n",
                "      BEGIN\r\n",
                "            -- to get ResourceID Data Enrty user\r\n",
                "            DECLARE @ProxyDataEntryUserID INT = NULL\r\n",
                "            SET  @ProxyDataEntryUserID = \r\n",
                "            (SELECT Resource_ID\r\n",
                "            FROM ERM.Resource AS RE\r\n",
                "            WHERE RE.[Initials]=@ProxyDataEntryuserInitials)\r\n",
                "\r\n",
                "               --Merge\r\n",
                "            MERGE ERM.Actors AS TGT  \r\n",
                "            USING (SELECT @KPIID, @KPIParticipantAreaID, @ProxyDataEntryUserID, @RoleDataEntryUser) AS SRC (KPI_ID, KPIParticipantArea_ID, Resource_ID, Role)  \r\n",
                "            ON  TGT.[KPI_ID] = SRC.KPI_ID\r\n",
                "            AND TGT.[KPIParticipantArea_ID] = SRC.KPIParticipantArea_ID\r\n",
                "            AND TGT.[Resource_ID] = SRC.Resource_ID\r\n",
                "            AND TGT.[Role] = SRC.Role\r\n",
                "            WHEN NOT MATCHED \r\n",
                "               THEN INSERT (KPI_ID     , KPIParticipantArea_ID     , Resource_ID       , Role)\r\n",
                "               VALUES      (SRC.KPI_ID , SRC.KPIParticipantArea_ID , SRC.Resource_ID   , SRC.Role);\r\n",
                "      END \r\n",
                "\r\n",
                "\r\n",
                " /**** Merge w. Target table upon new KPI entry ****/\r\n",
                "    MERGE ERM.Target AS TGT  \r\n",
                "        USING (SELECT \r\n",
                "        @KPIID,\r\n",
                "        @KPIParticipantAreaID, \r\n",
                "        @GreenTarget,\r\n",
                "        @YellowTarget\r\n",
                "        )   AS SRC (KPI_ID, KPIParticipantArea_ID, GreenTarget, YellowTarget)  \r\n",
                "        ON  TGT.[KPI_ID] = SRC.KPI_ID\r\n",
                "        AND TGT.[KPIParticipantArea_ID] = SRC.KPIParticipantArea_ID\r\n",
                "        AND TGT.[Green Target] = SRC.GreenTarget\r\n",
                "        AND TGT.[Yellow Target] = SRC.YellowTarget\r\n",
                "        WHEN NOT MATCHED \r\n",
                "            THEN INSERT (KPI_ID, KPIParticipantArea_ID, [Green Target], [Yellow Target])\r\n",
                "            VALUES      (KPI_ID, KPIParticipantArea_ID,  GreenTarget,    YellowTarget);\r\n",
                "\r\n",
                "      \r\n",
                "    /**** Merge w. KPI_Value table for first record in KPI_Value ****/\r\n",
                "     DECLARE @EnteredByUserID INT = NULL \r\n",
                "     SET  @EnteredByUserID = \r\n",
                "     (SELECT Resource_ID\r\n",
                "     FROM ERM.Resource AS RE\r\n",
                "     WHERE RE.[Initials] = 'System')\r\n",
                "\r\n",
                "        -- get DateID\r\n",
                "    DECLARE @DateCreated DATETIME\r\n",
                "    SET @DateCreated = GETDATE()\r\n",
                "        --Merge\r\n",
                "    MERGE ERM.KPI_Value AS TGT\r\n",
                "    USING (SELECT \r\n",
                "            @KPIID,\r\n",
                "            @KPIParticipantAreaID, \r\n",
                "            @EnteredByUserID, \r\n",
                "            CAST(CONVERT(VARCHAR,@DateCreated,112) AS INT) KPIValueEntryDate_ID -- YYYYMMDD \r\n",
                "         )   AS SRC (KPI_ID, KPIParticipantArea_ID, EnteredbyUser_ID, KPIValueEntryDate_ID)\r\n",
                "    ON TGT.[KPI_ID] = SRC.KPI_ID\r\n",
                "    AND TGT.[KPIParticipantArea_ID] = SRC.KPIParticipantArea_ID\r\n",
                "    AND TGT.KPIValueEntryDate_ID = SRC.KPIValueEntryDate_ID\r\n",
                "        WHEN NOT MATCHED THEN INSERT (KPI_ID,KPIParticipantArea_ID, EnteredbyUser_ID    ,KPIValueEntryDate_ID,[KPI Value],[Comment],[Status])\r\n",
                "        VALUES                       (KPI_ID,KPIParticipantArea_ID, EnteredbyUser_ID    ,KPIValueEntryDate_ID,-1.00 ,'Missing'       ,'Missing');\r\n",
                "END"
            ],
            "metadata": {
                "azdata_cell_guid": "b346a3c0-745a-4821-8cbf-277d51f542a3",
                "tags": []
            },
            "outputs": [
                {
                    "output_type": "display_data",
                    "data": {
                        "text/html": "Commands completed successfully."
                    },
                    "metadata": {}
                },
                {
                    "output_type": "display_data",
                    "data": {
                        "text/html": "Total execution time: 00:00:00.061"
                    },
                    "metadata": {}
                }
            ],
            "execution_count": 3
        },
        {
            "cell_type": "markdown",
            "source": [
                "## **Stored Procedure: add new records on chosen time interval**\n",
                "\n",
                "Upon execution, this SP will generate new records based on the given interval selected for a KPI.  \n",
                "The SP will be executed automatically by utilizing _Microsoft Power Automate._"
            ],
            "metadata": {
                "azdata_cell_guid": "ee030d62-29fa-45c0-97c3-fe84646e84de"
            }
        },
        {
            "cell_type": "code",
            "source": [
                "ALTER PROCEDURE [ERM].[AddNewEmptyRecordsToKPIValue]\r\n",
                "(\r\n",
                "@RUN [INT]\r\n",
                ")\r\n",
                "AS \r\n",
                "    BEGIN\r\n",
                "/* Weekly means Sunday 23:59 */\r\n",
                "/* Monthly is end of month at 23:59 */\r\n",
                "\r\n",
                "/* Assume the above is here in all subsequent code block. */\r\n",
                "        SET DATEFIRST  1, -- 1 = Monday, 7 = Sunday\r\n",
                "            DATEFORMAT mdy, \r\n",
                "            LANGUAGE   US_ENGLISH;\r\n",
                "\r\n",
                "        /* From which date are we generating */\r\n",
                "        DECLARE @StartDate DATE;\r\n",
                "        SELECT @StartDate  =MIN(DATEADD(day, DATEDIFF(day, 6,[Date Created]-1) /7*7 + 7, 6)) FROM [ERM].[KPIs]\r\n",
                "\r\n",
                "        /* What is our final date */\r\n",
                "        DECLARE @CutoffDate date = DATEADD(yy, DATEDIFF(yy, 0, GETDATE()) + 1, -1);\r\n",
                "\r\n",
                "        /* Generate date range */\r\n",
                "        ;WITH dates(n) AS \r\n",
                "        (\r\n",
                "        SELECT 0 UNION ALL SELECT n + 1 FROM dates\r\n",
                "        WHERE n < DATEDIFF(DAY, @StartDate , @CutoffDate)\r\n",
                "        )\r\n",
                "        ,DatesFlattened AS \r\n",
                "        (\r\n",
                "        SELECT DATEADD(DAY,n,@StartDate) Date\r\n",
                "        FROM dates\r\n",
                "        )\r\n",
                "        ,Dates_WeeklyBiWeeklyMonthlyYearly AS\r\n",
                "        (\r\n",
                "\r\n",
                "        SELECT Date\r\n",
                "                ,KPI.[KPI_ID]\r\n",
                "                ,RES.[Resource_ID]\r\n",
                "                ,PA.[KPIParticipantArea_ID]\r\n",
                "        FROM DatesFlattened Weekly\r\n",
                "        INNER JOIN [ERM].[KPIs] KPI ON /* Yearly */\r\n",
                "\r\n",
                "                                        (\r\n",
                "                                        KPI.IsYearly=1\r\n",
                "                                        AND Weekly.Date=DATEADD(yy, DATEDIFF(yy, 0, weekly.DATE) + 1, -1) /* Take end of Year*/\r\n",
                "                                        AND Weekly.Date>DATEADD(day, DATEDIFF(day, 6,KPI.[Date Created]-1) /7*7 + 7, 6)\r\n",
                "                                                AND Weekly.Date <=DATEADD(yy,-1,DATEADD(yy, DATEDIFF(yy, 0, GETDATE()) + 1, -1) )/* Stop at current YEAR*/\r\n",
                "                                        )\r\n",
                "                                        OR\r\n",
                "                                        /* Monthly */\r\n",
                "                                        (KPI.IsMonthly=1\r\n",
                "                                        AND Weekly.Date=EOMONTH(Weekly.Date) /* Take end of Month */\r\n",
                "                                        AND Weekly.Date>DATEADD(day, DATEDIFF(day, 6,KPI.[Date Created]-1) /7*7 + 7, 6)\r\n",
                "                                                AND Weekly.Date <=DATEADD(MONTH,-1,EOMONTH(GETDATE())) /* Stop at current month */\r\n",
                "                                        )\r\n",
                "                                        OR\r\n",
                "                                        /* Biweekly */\r\n",
                "                                        (\r\n",
                "                                        KPI.IsBiWeekly=1 \r\n",
                "                                        AND Weekly.Date>DATEADD(day, DATEDIFF(day, 6,KPI.[Date Created]-1) /7*7 + 7, 6)\r\n",
                "                                        AND Weekly.Date=DATEADD(dd, 7-(DATEPART(dw, Date)), Date) /* Take Sunday */\r\n",
                "                                        AND DATEDIFF(DAY,Weekly.date,DATEADD(day, DATEDIFF(day, 6,KPI.[Date Created]-1) /7*7 + 7, 6))  % 14=0 /* Take Biweekly */\r\n",
                "                                        AND Date<=DATEADD(WEEK, 0, DATEADD(DAY, 1-DATEPART(WEEKDAY, GETDATE()), DATEDIFF(dd, 0, GETDATE()))) /* Stop at Sunday of the current week*/\r\n",
                "                                        )\r\n",
                "                                        OR\r\n",
                "                                        /* Weekly */\r\n",
                "                                        (\r\n",
                "                                        KPI.IsWeekly=1 \r\n",
                "                                        AND Weekly.Date>DATEADD(day, DATEDIFF(day, 6,KPI.[Date Created]-1) /7*7 + 7, 6)\r\n",
                "                                        AND Date=DATEADD(dd, 7-(DATEPART(dw, Date)), Date) /* Take Sunday */\r\n",
                "                                        AND Date<=DATEADD(WEEK, 0, DATEADD(DAY, 1-DATEPART(WEEKDAY, GETDATE()), DATEDIFF(dd, 0, GETDATE())))  /* Stop at Sunday of the current week*/\r\n",
                "                                        )\r\n",
                "\t\t\t\t\t\t\t\t\t\tOR\r\n",
                "                                        /* Quarter*/\r\n",
                "                                        (\r\n",
                "                                        KPI.IsQuarterly=1 \r\n",
                "                                        AND Weekly.Date=dateadd(qq,1,dateadd(qq, DateDiff(qq, 0, date), -1)) /* Take end of Q*/\r\n",
                "                                        AND Weekly.Date>DATEADD(day, DATEDIFF(day, 6,KPI.[Date Created]-1) /7*7 + 7, 6)\r\n",
                "                                                AND Weekly.Date <=dateadd(qq, DateDiff(qq, 0, GETDATE()), -1) /* Stop at current Q*/\r\n",
                "                                        )\r\n",
                "        INNER JOIN [ERM].[Resource] RES ON RES.Initials='System'\r\n",
                "        INNER JOIN [ERM].[Actors] ACT ON ACT.KPI_ID=KPI.KPI_ID\r\n",
                "        INNER JOIN [ERM].[KPIParticipantArea] PA ON ACT.KPIParticipantArea_ID=PA.KPIParticipantArea_ID \r\n",
                "        )\r\n",
                "        MERGE ERM.KPI_Value AS TARGET\r\n",
                "        USING (\r\n",
                "                SELECT DISTINCT CAST(CONVERT(VARCHAR,CAST(DATE AS DATETIME),112) AS INT) DATE_ID -- YYYYMMDD\r\n",
                "                                ,KPI_ID\r\n",
                "                                ,Resource_ID\r\n",
                "                                ,[KPIParticipantArea_ID]\r\n",
                "                FROM Dates_WeeklyBiWeeklyMonthlyYearly \r\n",
                "            ) AS SOURCE (Date_ID, KPI_ID,Resource_ID,KPIParticipantArea_ID)\r\n",
                "        ON (TARGET.KPI_ID = SOURCE.KPI_ID \r\n",
                "            AND TARGET.KPIValueEntryDate_ID = SOURCE.DATE_ID \r\n",
                "                    AND TARGET.[KPIParticipantArea_ID]=SOURCE.[KPIParticipantArea_ID])\r\n",
                "        WHEN NOT MATCHED THEN INSERT (KPI_ID,KPIParticipantArea_ID,EnteredbyUser_ID,KPIValueEntryDate_ID,[KPI Value],[Comment],[Status])\r\n",
                "                            VALUES (KPI_ID,KPIParticipantArea_ID,Resource_ID      ,Date_ID             ,-1.00       ,'Missing','Missing')\r\n",
                "        OPTION (MAXRECURSION 0);\r\n",
                "    END;"
            ],
            "metadata": {
                "azdata_cell_guid": "bcff790d-5358-4b67-9239-d91409db2abe"
            },
            "outputs": [
                {
                    "output_type": "display_data",
                    "data": {
                        "text/html": "Commands completed successfully."
                    },
                    "metadata": {}
                },
                {
                    "output_type": "display_data",
                    "data": {
                        "text/html": "Total execution time: 00:00:00.357"
                    },
                    "metadata": {}
                }
            ],
            "execution_count": 12
        },
        {
            "cell_type": "markdown",
            "source": [
                "## **Stored Procedure: KPI Values Entry**\n",
                "\n",
                "This SP enables users to update values for a selected KPI on a given date by utilizing multiple merge statements. \n",
                "\n",
                "The SP also incorporates a security mechanism - only users with the correct access will be allowed to edit the selected KPI Values.\n",
                "\n",
                "The SP only allows editing of KPI Values that are already present i.e. the associated records that are generated by the previous SP."
            ],
            "metadata": {
                "azdata_cell_guid": "03bc6758-68ae-49b4-81f8-f5becb871a1e"
            }
        },
        {
            "cell_type": "code",
            "source": [
                "/* Procedure to update KPI Values */\r\n",
                "ALTER PROCEDURE ERM.UpdateKPIValues\r\n",
                "(\r\n",
                "@KPIName [varchar](200),\r\n",
                "@VPS [VARCHAR](50),\r\n",
                "@SVPArea [VARCHAR](50),          --OPTIONAL N/A can be entered\r\n",
                "@Module  [VARCHAR](50),          --OPTIONAL N/A can be entered\r\n",
                "@KPIEntryUserEmail [VARCHAR](30),\r\n",
                "@KPIValueEntryDate [INT], \r\n",
                "@KPIValue [DECIMAL](18,2),\r\n",
                "@Comment[VARCHAR](200) = NULL,\r\n",
                "@Status [VARCHAR](10)\r\n",
                ")\r\n",
                "AS\r\n",
                "    BEGIN\r\n",
                "    -- get KPI_ID\r\n",
                "     DECLARE @KPIID INT = NULL\r\n",
                "     SET @KPIID = \r\n",
                "     (SELECT KPI_ID\r\n",
                "     FROM ERM.KPIs AS KPI\r\n",
                "     WHERE KPI.[KPI Name]=@KPIName)\r\n",
                "\r\n",
                "    -- get KPI area ID\r\n",
                "     DECLARE @KPIParticipantAreaID INT = NULL\r\n",
                "     SET @KPIParticipantAreaID = \r\n",
                "     (SELECT [KPIParticipantArea_ID]\r\n",
                "     FROM ERM.KPIParticipantArea AS PA\r\n",
                "     WHERE PA.[VPS] = @VPS\r\n",
                "     AND PA.[SVP Area]=@SVPArea\r\n",
                "     AND PA.[Module] = @Module)\r\n",
                "\r\n",
                "    -- get Resource ID \r\n",
                "     DECLARE @ResourceID INT = NULL\r\n",
                "     SET  @ResourceID = \r\n",
                "     (SELECT Resource_ID\r\n",
                "     FROM ERM.Resource AS RE\r\n",
                "     WHERE RE.[Email]=@KPIEntryUserEmail)\r\n",
                "\r\n",
                "    /*Checks if User that tries to update, has Edit rights*/\r\n",
                "    DECLARE @EditRightsCheck INT = NULL\r\n",
                "    SET @EditRightsCheck =  CASE WHEN EXISTS(SELECT 1\r\n",
                "                                    FROM  ERM.Actors AC\r\n",
                "                                    WHERE AC.KPI_ID = @KPIID\r\n",
                "                                    AND AC.KPIParticipantArea_ID = @KPIParticipantAreaID\r\n",
                "                                    AND AC.Resource_ID = @ResourceID)\r\n",
                "                                THEN 1  ELSE 0\r\n",
                "                            END \r\n",
                "    IF @EditRightsCheck = 0\r\n",
                "    BEGIN   \r\n",
                "        RAISERROR('Error: You do not have the rights to edit this KPI',16,1);\r\n",
                "    END\r\n",
                "\r\n",
                "        /*Checks if date is valid*/\r\n",
                "    DECLARE @DateCheck INT = NULL\r\n",
                "    SET @DateCheck =  CASE WHEN EXISTS(SELECT 1\r\n",
                "                                    FROM  ERM.KPI_Value AC\r\n",
                "                                    WHERE AC.KPI_ID = @KPIID\r\n",
                "                                    AND AC.KPIParticipantArea_ID = @KPIParticipantAreaID\r\n",
                "                                    AND AC.KPIValueEntryDate_ID = @KPIValueEntryDate)\r\n",
                "                                THEN 1  ELSE 0\r\n",
                "                            END \r\n",
                "    IF @DateCheck = 0\r\n",
                "    BEGIN   \r\n",
                "        RAISERROR('Error: The selected date is invalid',16,1);\r\n",
                "    END\r\n",
                "\r\n",
                "        --Merge \r\n",
                "        MERGE ERM.KPI_Value AS TGT\r\n",
                "        USING (\r\n",
                "        SELECT @KPIID, @KPIParticipantAreaID, @ResourceID, @KPIValueEntryDate, @KPIValue, @Comment, @Status\r\n",
                "        )\r\n",
                "        AS SRC (KPI_ID, KPIParticipantArea_ID, EnteredbyUser_ID, KPIValueEntryDate_ID, KPIValue,Comment, Status)\r\n",
                "        ON TGT.KPI_ID = SRC.KPI_ID \r\n",
                "        AND TGT.KPIParticipantArea_ID = SRC.KPIParticipantArea_ID\r\n",
                "        AND TGT.KPIValueEntryDate_ID = SRC.KPIValueEntryDate_ID\r\n",
                "        WHEN MATCHED \r\n",
                "            THEN UPDATE SET\r\n",
                "            TGT.[KPI Value] = SRC.KPIValue,\r\n",
                "            TGT.[Comment] = SRC.Comment,\r\n",
                "            TGT.[Status] = SRC.Status;\r\n",
                "\r\n",
                "    END"
            ],
            "metadata": {
                "azdata_cell_guid": "5b1a4921-3f38-4b06-880a-88bbdeaaeae6",
                "tags": []
            },
            "outputs": [
                {
                    "output_type": "display_data",
                    "data": {
                        "text/html": "Commands completed successfully."
                    },
                    "metadata": {}
                },
                {
                    "output_type": "display_data",
                    "data": {
                        "text/html": "Total execution time: 00:00:00.230"
                    },
                    "metadata": {}
                }
            ],
            "execution_count": 22
        },
        {
            "cell_type": "markdown",
            "source": [
                "# **Example data**"
            ],
            "metadata": {
                "azdata_cell_guid": "f3571858-2010-481b-bed7-38d5040fb4f2"
            }
        },
        {
            "cell_type": "code",
            "source": [
                "-- add some example KPIs\r\n",
                "EXECUTE ERM.AddNewKPI '1.1 Revenue','N/A','Balance Sheet','N/A','N/A',0,1,0,0,0,'mEUR','Sum','Increase','Firm level','N/A','N/A','HOHOHO','HEHEHE','200','180'\r\n",
                "EXECUTE ERM.AddNewKPI '1.2 EBIT','N/A','Balance Sheet','N/A','N/A',0,1,0,0,0,'%','Average','Increase','Firm level','N/A','N/A','HOHOHO','HEHEHE','8','6'\r\n",
                "EXECUTE ERM.AddNewKPI '1.3 Free Cash flow','N/A','Balance Sheet','N/A','N/A',0,1,0,0,0,'mEUR','Sum','Increase','Firm level','N/A','N/A','HOHOHO','HEHEHE','50','10'\r\n",
                "EXECUTE ERM.AddNewKPI '2.1 Active Customer Complaints','N/A','Customer','Customer Support','N/A',0,0,0,0,1,'Count','Sum','Decrease','Firm level','Department level','N/A','HOHOHO','HEHEHE','10','15'\r\n",
                "EXECUTE ERM.AddNewKPI '2.1 Active Customer Complaints','N/A','Customer','Customer Support','N/A',0,0,0,0,1,'Count','Sum','Decrease','Firm level','Department level','N/A','HOHOHO','HEHEHE','10','15'\r\n",
                "EXECUTE ERM.AddNewKPI '2.1 Active Customer Complaints','N/A','Customer','Customer Support','N/A',0,0,0,0,1,'Count','Sum','Decrease','Firm level','Department level','N/A','HOHOHO','HEHEHE','10','15'\r\n",
                "EXECUTE ERM.AddNewKPI '2.1 Active Customer Complaints','N/A','Customer','Customer Support','N/A',0,0,0,0,1,'Count','Sum','Decrease','Firm level','Department level','N/A','HOHOHO','HEHEHE','10','15'\r\n",
                "EXECUTE ERM.AddNewKPI '2.1 Active Customer Complaints','N/A','Customer','Customer Support','N/A',0,0,0,0,1,'Count','Sum','Decrease','Firm level','Department level','N/A','HOHOHO','HEHEHE','10','15'\r\n",
                "EXECUTE ERM.AddNewKPI '2.2 Customer Satisfaction Score','N/A','Customer','Customer Support','N/A',0,0,0,0,1,'%','Sum','Increase','Firm level','Department level','N/A','HOHOHO','HEHEHE','80','75'\r\n",
                "EXECUTE ERM.AddNewKPI '2.2 Customer Satisfaction Score','N/A','Customer','Customer Support','N/A',0,0,0,0,1,'%','Sum','Increase','Firm level','Department level','N/A','HOHOHO','HEHEHE','80','75'\r\n",
                "EXECUTE ERM.AddNewKPI '2.2 Customer Satisfaction Score','N/A','Customer','Customer Support','N/A',0,0,0,0,1,'%','Sum','Increase','Firm level','Department level','N/A','HOHOHO','HEHEHE','80','75'\r\n",
                "EXECUTE ERM.AddNewKPI '2.2 Customer Satisfaction Score','N/A','Customer','Customer Support','N/A',0,0,0,0,1,'%','Sum','Increase','Firm level','Department level','N/A','HOHOHO','HEHEHE','80','75'"
            ],
            "metadata": {
                "azdata_cell_guid": "6b4e56c1-55f5-4a52-b34a-9e442055f543",
                "tags": []
            },
            "outputs": [
                {
                    "output_type": "display_data",
                    "data": {
                        "text/html": "Commands completed successfully."
                    },
                    "metadata": {}
                },
                {
                    "output_type": "display_data",
                    "data": {
                        "text/html": "Total execution time: 00:00:02.174"
                    },
                    "metadata": {}
                }
            ],
            "execution_count": 79
        }
    ]
}